{
 "cells": [
  {
   "cell_type": "code",
   "execution_count": 1,
   "metadata": {},
   "outputs": [
    {
     "name": "stdout",
     "output_type": "stream",
     "text": [
      "Using device: cuda\n"
     ]
    },
    {
     "name": "stderr",
     "output_type": "stream",
     "text": [
      "Some weights of BartForConditionalGeneration were not initialized from the model checkpoint at facebook/bart-large-cnn and are newly initialized: ['model.shared.weight']\n",
      "You should probably TRAIN this model on a down-stream task to be able to use it for predictions and inference.\n"
     ]
    }
   ],
   "source": [
    "import torch\n",
    "from transformers import BartForConditionalGeneration, BartTokenizer\n",
    "\n",
    "# Check if GPU is available\n",
    "device = \"cuda\" if torch.cuda.is_available() else \"cpu\"\n",
    "print(f\"Using device: {device}\")\n",
    "\n",
    "# Load BART model and tokenizer\n",
    "model_name = \"facebook/bart-large-cnn\"\n",
    "tokenizer = BartTokenizer.from_pretrained(model_name)\n",
    "model = BartForConditionalGeneration.from_pretrained(model_name).to(device)\n"
   ]
  },
  {
   "cell_type": "code",
   "execution_count": 2,
   "metadata": {},
   "outputs": [],
   "source": [
    "def chunk_text(text, tokenizer, max_length=1024, overlap=200):\n",
    "    \"\"\"\n",
    "    Splits the input text into chunks of max_length tokens with overlapping context.\n",
    "    \"\"\"\n",
    "    tokens = tokenizer.encode(text)\n",
    "    chunks = []\n",
    "    \n",
    "    for i in range(0, len(tokens), max_length - overlap):\n",
    "        chunk = tokens[i : i + max_length]\n",
    "        chunks.append(tokenizer.decode(chunk))\n",
    "    \n",
    "    return chunks\n"
   ]
  },
  {
   "cell_type": "code",
   "execution_count": 3,
   "metadata": {},
   "outputs": [],
   "source": [
    "def summarize_chunks(chunks, model, tokenizer):\n",
    "    \"\"\"\n",
    "    Generates summaries for each chunk and returns the combined summary.\n",
    "    \"\"\"\n",
    "    summaries = []\n",
    "    \n",
    "    for chunk in chunks:\n",
    "        inputs = tokenizer(chunk, return_tensors=\"pt\", truncation=True, max_length=1024).to(device)\n",
    "        \n",
    "        with torch.no_grad():  # Disable gradient calculations for inference\n",
    "            summary_ids = model.generate(**inputs, max_length=256)\n",
    "        \n",
    "        summary = tokenizer.decode(summary_ids[0], skip_special_tokens=True)\n",
    "        summaries.append(summary)\n",
    "    \n",
    "    return summaries\n"
   ]
  },
  {
   "cell_type": "code",
   "execution_count": 4,
   "metadata": {},
   "outputs": [],
   "source": [
    "import pandas as pd\n",
    "data=pd.read_csv(\"legal_summaries.csv\")"
   ]
  },
  {
   "cell_type": "code",
   "execution_count": 5,
   "metadata": {},
   "outputs": [
    {
     "name": "stderr",
     "output_type": "stream",
     "text": [
      "Token indices sequence length is longer than the specified maximum sequence length for this model (33029 > 1024). Running this sequence through the model will result in indexing errors\n"
     ]
    },
    {
     "name": "stdout",
     "output_type": "stream",
     "text": [
      "WARNING:tensorflow:From c:\\Users\\KNPRO\\AppData\\Local\\Programs\\Python\\Python311\\Lib\\site-packages\\keras\\src\\losses.py:2976: The name tf.losses.sparse_softmax_cross_entropy is deprecated. Please use tf.compat.v1.losses.sparse_softmax_cross_entropy instead.\n",
      "\n",
      "These appeals raise several matters which are important to the international market in telecommunications. There is a dispute (in the Conversant appeals: para 17 below) whether England is the appropriate forum to determine those matters. A question as to the nature of the requirement that the licence, which the owner of a Standard Essential Patent (SEP) must offer to an implementer, be non discriminatory. European Telecommunications Standards Institute (ETSI) is a French association formed in 1988. ETSI is recognised as the SSO in the European Union telecommunications sector. The patents which are the subject of these appeals are the UK designations of European patents (UK patents) which have been declared to ETSi as essential. The relevant standards are telecommunications standards for 2G (GSM), 3G (UMTS) and 4G (LTE) The ETSI IPR Policy is a contractual document, governed by French law. It binds the members of EtsI and their affiliates. It speaks (clause 15(6) of patents which are inevitably infringed by the sale, lease, use, operation etc of components which comply with a standard as Essential IPR. The key to the IPR Policy is clause 6, which provides the legal basis on which an owner of an Essential IPR gives an irrevocable undertaking to grant a licence. Clause 6 protects both ETSI and implementers against holding up the development of a standard or technical specification. Clause 6bis instructs members of ETSI to use one of the declaration forms annexed to the Policy. Clause 8.1 provides for the adoption of a viable alternative technology for the standard or technical specification if such a technology exists. clause 8.2 provides the option of modifying the standard so that the relevant IPR is no longer essential. clause 6.3 provides that, if the IPR owner does not grant the requested undertaking, relevant office bearers in EtsI will decide whether to suspend work on the relevant parts of the standard. The parties do not dispute that SEP owners, which have a large portfolio of patents covering many countries, would as a matter of practice voluntarily negotiate worldwide licences. The Court of Appeal in its judgment in the Unwired appeal also referred to the prohibitive cost of litigating the validity and essentiality of patents territory by territory. Unwired commenced proceedings in England on 10 March 2014 against Huawei, Samsung and Google, alleging infringement of the UK designation of six European patents. Unwired settled with Google in 2015 and with Samsung in July 2016. Huawei challenged several of Unwireds patents in China. Three trials were held to determine whether the UK patents in suit were valid and infringed. In Germany, Unwired brought proceedings in which it had mixed success. Unwired was sold to the PanOptis group of companies in July 2016. It was in serious financial trouble and was close to insolvency. In July 2016, after the technical trials of the UK patents but before Birss J held the trial to determine remedies for infringement of its UK patents, Unwired granted Samsung a global licence for its portfolio. Conversant v Huawei and ZTE. Conversant commenced proceedings in England in July 2017. It seeks among other things a declaration that the global licence which it offered the defendants is FRAND. If that is not granted, it seeks a determination of FRAND terms. It also seeks injunctions in respect of UK patents found to be valid and infringed which will last until the defendants enter into a licence. Huawei and ZTE challenged 11 Chinese patents in the UK. The PRB had ruled that of those 11, eight are invalid, two are valid and one is partially valid. The decisions are under appeal. None of the Chinese patents held to be valid are of the same families as the UK patents in suit. The issue of whether a patent is valid or not is a matter of international law. The European Court of Justice has ruled that a patent must be valid if it can be shown to be of value to the public. But the European Court has also ruled that it is not necessary for a patent to be valid in order for it to be legal. No one in counting Relevant SEPs takes account of the validity of the patents. The process of negotiating rates by counting patents within a portfolio creates a perverse incentive to over declare. English courts are not entitled to grant an injunction for the infringement of a UK patent unless an implementer agrees to take a licence. English courts are not entitled to grant an injunction for the infringement of a UK patent unless an implementer agrees to take a licence of disputed foreign patents. This involves the implementer having to compromise foreign rights, including the right to challenge (a) the validity of those foreign patents and (b) the assertion that they are SEPs. The parties accept that SEP owners and implementers cannot feasibly test the validity and infringement of all of the patents involved in a standard which are in a sizeable portfolio. The practical solution is for the SEP owner to offer to license its portfolio of declared SEPs. ZTE accepts that patent by patent licensing is unlikely to be FRAND. The IPR Policy was agreed against that background and the undertaking required from the SEP owner likewise needs to be interpreted against that backdrop. We do not accept the distinction which Huawei draws (in its third submission above (para 53) between voluntary agreements which operators in the telecommunications industry choose to enter into and the limited powers of a court on the other. We agree with the parties that the FRAND obligation in the IPR Policy extends to the fairness of the process by which the parties negotiate a licence. Huawei suggests that it would serve no purpose for a UK court to fix the terms of a global licence but to provide for the alteration of royalties in the event of successful challenges. The principles stated in those judgments contemplate that, in an appropriate case, the courts in the relevant jurisdictions would determine the terms of a global FRAND licence. The case was concerned with obligations owed by a SEP owner in relation to a SSO, the International Telecommunication Union (ITU) and the Institute of Electrical and Electronics Engineers (IEEE) Apple challenged Qualcomms patents in eleven lawsuits in several jurisdictions on the grounds of invalidity, non infringement and breaches of foreign competition law. Qualcomm sought a declaration that it had complied with its irrevocable undertaking given pursuant to ETSIs IPR Policy and asked the court to hold that particular offers were FRAND or in the alternative to determine worldwide FRAND royalties. Germany: In Pioneer v Acer 7 O 96/14, which the Court of Appeal discussed in para 63 of its judgment, the Regional Court of Mannheim considered the geographical scope of a FRAND licence. The court held that the defendants offer was not FRAND and granted an injunction against infringement. In Germany it is possible to obtain an injunction against infringement from one court before the validity of a patent has been established in the other. In the UK, by contrast, it is necessary first to establish both validity and infringement of the national patent, as Birss J did in this case. Samsung as a SEP owner under the ETSI regime had given an undertaking to enter into a FRAND licence which Apple had not accepted. The case, in so far as relevant to the issue we are considering, concerned the nature of the damages which Samsung could recover from the infringement by Apple. Huawei argues that the English courts have no jurisdiction to grant an injunction. The company also expresses concern that PAEs may abuse the power which they give to certain companies to pursue legal actions against them. Huawei argues that there is a fundamental difference between what parties may voluntarily do in reaching agreements with other participants in an industry and what a court may properly compel them to do. Huawei points to the increasing involvement of Patent Assertion Entities (PAEs) in the SEP licensing market and in litigation. Such entities accumulate portfolios of patents from patent owners which were or are globally active mobile phone companies. Huawei expresses concern that PAEs may abuse the power which ownership of SEPs gives. English courts have jurisdiction to rule upon whether the UK patents in suit are valid and have been infringed, and to rule on the contractual defence relied upon by the implementers. The real dispute between the parties is as to the terms of a FRAND licence, with the claim to enforce English patents by injunction being no more than a convenient peg upon which to hang the dispute. In re Harrods (Buenos Aires) Ltd [1992] Ch 72, Harman J had characterised the case as a petition under the English Companies Act for relief for unfair prejudice in the conduct of the affairs of an English registered company. But the company carried on business entirely in Argentina. The matters complained of all occurred there, where there was a parallel jurisdiction to provide relief. The English court does have such a jurisdiction, even in the absence of consent by the parties, and it has of course exercised that jurisdiction in the Unwired case. The English courts have wide case management powers, and they include the power to impose a temporary stay on proceedings where to do so would serve the Overriding Objective. No such application has thus far been made in the Conversant case. Huawei says the Court of Appeal was wrong to refuse any case management solution. The current proceedings in China relate only to Conversants Chinese patents, and Conversant has been held to have acted reasonably in refusing (even if it were possible) to confer a wider global jurisdiction on the Chinese courts. Unwired said that the non discrimination part of the FRAND undertaking was to be construed by analogy with the obligation of non discrimination as found in EU competition law in article 102(c) of the TFEU. Unwired argued that the mere existence of differential royalty rates is not sufficient to amount to a breach of the obligation. Court upholds the judgment of Birss J and the Court of Appeal on the second of Unwireds arguments. They were right to find that the non discrimination element in the FRAND undertaking is general and not hard edged and that there had been no breach of it. The third argument does not arise. Huawei argued that the most favourable licence term was deleted from the IPR Policy in 1994. The Court of Appeal took the same view: para 199. Huawei's approach would mean that the existence of a prior licence which the judge had expressly and legitimately held did not represent useful evidence of the value of the portfolio. Huawei argues that the CJEU laid down a series of mandatory conditions which must be complied with if a SEP owner is to obtain injunctive relief. Unwired has not made a FRAND offer at any stage, its offers being too high to be FRAND, Huawei says. Huawei v ZTE arose in connection with a dispute in Germany between Huawei, which held a telecommunications SEP and had given an undertaking to grant licences on FRAND terms. ZTE marketed products using the SEP without paying a royalty or exhaustively rendering an account in respect of the use. The CJEU commenced its consideration of the referred questions with the following observation: 42. The Court must strike a balance between maintaining free competition in respect of which primary law and, in particular, article 102 TFEU prohibit abuses of a dominant position. The court then went on to deal with the situation where the parties could not agree on what FRAND terms were. Huawei had a licence from Ericsson which included the SEPs which were assigned to Unwired in 2013. In September 2013, Unwired wrote to Huawei proposing discussion with a view to concluding a licence. Unwired received no reply, but received a reply from Huawei saying it had no plans to do so. Huawei had a licence from Ericsson between 2009 and 2012. In 2013, there was brief discussion between Unwired and Huawei about the possibility of Huawei buying some of the SEPs. In April 2014, Unwired made the first of a number of offers of licensing terms. Huawei responded, saying no licence was needed, but also denying that the offered terms were FRAND. The Court of Appeal agreed with Birss Js interpretation of the CJEUs judgment, which it considered entirely correct. The nature of the notice/consultation that is required must depend upon the circumstances of the case. The language used by the CJEU is intended to sign a safe harbour for the SEP owner. Unwired says the language used by the CJEU is language intended to signpost a safe harbour for the SEP owner. Unwired points to the unfairness that would arise, in a case (such as the present one) if the application for injunctive relief were to be condemned as abusive. Huawei contends that even if it is infringing the claimants UK SEPs, nevertheless the court should not grant the claimants an injunction to prevent the continuing infringement of their patents. Huawei refers to the discussion of awards of damages in lieu of an injunction under section 50 of the Senior Courts Act 1981 (formerly under Lord Cairnss Act) Huawei also refers to eBay Inc v Mercexchange LLC 547 US 388 (2006), where the United States Supreme Court vacated a decision by the Federal Circuit reversing the District Courts denial of permanent injunctive relief to a PAE. Huawei relies in particular on the concern expressed by Kennedy J, in a concurring opinion in which Stevens, Souter and Breyer JJ joined, that an injunction could be employed by a PAe as a bargaining tool to charge exorbitant fees. In this case a UK only licence would not be FRAND. An injunction ought to be granted because Huawei stand before the court without a licence. We would like to record our appreciation of the high quality of the judgments of the Court of Appeal in each of these cases. It follows from what we have discussed above that the appeals must fail. We therefore dismiss the appeals. We would like to record our appreciation of the high quality of the judgments of the courts below and the help which we gained from the Court of Appeal in each of these cases.\n"
     ]
    }
   ],
   "source": [
    "legal_text = data['input_text'][7800]\n",
    "chunks = chunk_text(legal_text, tokenizer)\n",
    "\n",
    "# Summarize each chunk\n",
    "chunk_summaries = summarize_chunks(chunks, model, tokenizer)\n",
    "\n",
    "# Combine mini-summaries into a final summary\n",
    "final_summary = \" \".join(chunk_summaries)\n",
    "print(final_summary)"
   ]
  },
  {
   "cell_type": "code",
   "execution_count": null,
   "metadata": {},
   "outputs": [],
   "source": []
  }
 ],
 "metadata": {
  "kernelspec": {
   "display_name": "Python 3",
   "language": "python",
   "name": "python3"
  },
  "language_info": {
   "codemirror_mode": {
    "name": "ipython",
    "version": 3
   },
   "file_extension": ".py",
   "mimetype": "text/x-python",
   "name": "python",
   "nbconvert_exporter": "python",
   "pygments_lexer": "ipython3",
   "version": "3.11.9"
  }
 },
 "nbformat": 4,
 "nbformat_minor": 2
}
