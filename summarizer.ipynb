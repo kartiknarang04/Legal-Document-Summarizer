{
 "cells": [
  {
   "cell_type": "code",
   "execution_count": 1,
   "metadata": {},
   "outputs": [],
   "source": [
    "from transformers import AutoTokenizer, LEDForConditionalGeneration\n",
    "\n",
    "tokenizer = AutoTokenizer.from_pretrained(\"allenai/led-large-16384-arxiv\")\n",
    "model = LEDForConditionalGeneration.from_pretrained(\"allenai/led-large-16384-arxiv\").to(\"cuda\")"
   ]
  },
  {
   "cell_type": "code",
   "execution_count": 8,
   "metadata": {},
   "outputs": [],
   "source": [
    "# Use a pipeline as a high-level helper\n",
    "from transformers import pipeline\n",
    "\n",
    "pipe = pipeline(\"summarization\", model=\"facebook/bart-large-cnn\",device=\"cuda\")"
   ]
  },
  {
   "cell_type": "code",
   "execution_count": 2,
   "metadata": {},
   "outputs": [
    {
     "name": "stdout",
     "output_type": "stream",
     "text": [
      "where\n"
     ]
    }
   ],
   "source": [
    "\"\"\"import os\n",
    "import pandas as pd\n",
    "\n",
    "def load_dataset(directory, has_split=True):\n",
    "   Load dataset from directories\n",
    "    data = []\n",
    "    if has_split:  # IN-Abs & UK-Abs have train/test split\n",
    "        for split in [\"train-data\", \"test-data\"]:\n",
    "            judgement_path = os.path.join(directory, split, \"judgement\")\n",
    "            summary_path = os.path.join(directory, split, \"summary\")\n",
    "\n",
    "            for filename in os.listdir(judgement_path):\n",
    "                judgement_file = os.path.join(judgement_path, filename)\n",
    "                summary_file = os.path.join(summary_path, filename)\n",
    "\n",
    "                if os.path.exists(summary_file):\n",
    "                    with open(judgement_file, \"r\", encoding=\"utf-8\") as f:\n",
    "                        judgement_text = f.read()\n",
    "                    with open(summary_file, \"r\", encoding=\"utf-8\") as f:\n",
    "                        summary_text = f.read()\n",
    "                    data.append({\"input_text\": judgement_text, \"summary_text\": summary_text})\n",
    "    else:  # IN-Ext has no train/test split\n",
    "        judgement_path = os.path.join(directory, \"judgement\")\n",
    "        summary_path = os.path.join(directory, \"summary\")\n",
    "\n",
    "        for filename in os.listdir(judgement_path):\n",
    "            judgement_file = os.path.join(judgement_path, filename)\n",
    "            summary_file = os.path.join(summary_path, filename)\n",
    "\n",
    "            if os.path.exists(summary_file):\n",
    "                with open(judgement_file, \"r\", encoding=\"utf-8\") as f:\n",
    "                    judgement_text = f.read()\n",
    "                with open(summary_file, \"r\", encoding=\"utf-8\") as f:\n",
    "                    summary_text = f.read()\n",
    "                data.append({\"input_text\": judgement_text, \"summary_text\": summary_text})\n",
    "    \n",
    "    return pd.DataFrame(data)\n",
    "\n",
    "# Load all datasets\n",
    "datasets = {\n",
    "    \"IN-Abs\": load_dataset(\"dataset/IN-Abs\", has_split=True),\n",
    "    \"IN-Ext\": load_dataset(\"dataset/IN-Ext\", has_split=False),  # No train-test split\n",
    "    \"UK-Abs\": load_dataset(\"dataset/UK-Abs\", has_split=True),\n",
    "}\n",
    "\n",
    "# Combine into a single dataset\n",
    "df = pd.concat(datasets.values(), ignore_index=True)\n",
    "\n",
    "# Save as CSV\n",
    "df.to_csv(\"legal_summaries.csv\", index=False)\n",
    "print(\"Dataset saved as CSV!\")\n",
    "\"\"\"\n",
    "\n",
    "print(\"where\")"
   ]
  },
  {
   "cell_type": "code",
   "execution_count": 3,
   "metadata": {},
   "outputs": [
    {
     "name": "stdout",
     "output_type": "stream",
     "text": [
      "DatasetDict({\n",
      "    train: Dataset({\n",
      "        features: ['input_text', 'summary_text'],\n",
      "        num_rows: 7040\n",
      "    })\n",
      "    test: Dataset({\n",
      "        features: ['input_text', 'summary_text'],\n",
      "        num_rows: 783\n",
      "    })\n",
      "})\n"
     ]
    }
   ],
   "source": [
    "from datasets import Dataset\n",
    "import pandas as pd\n",
    "\n",
    "dataset = Dataset.from_pandas(pd.read_csv(\"legal_summaries.csv\"))\n",
    "dataset = dataset.train_test_split(test_size=0.1)  # 90% train, 10% test\n",
    "\n",
    "print(dataset)"
   ]
  },
  {
   "cell_type": "code",
   "execution_count": 14,
   "metadata": {},
   "outputs": [
    {
     "name": "stdout",
     "output_type": "stream",
     "text": [
      "Summary: [{'summary_text': 'The Indian Railways Act underwent several amendments and by the amendment in December 1957, section 41 was changed. The Tribunal held that it had no jurisdiction to entertain or try the complaint as regards the rates and charges to prior to the institution of the complaint. The appellants came up in appeal to the Supreme Court.'}]\n"
     ]
    }
   ],
   "source": [
    "def preprocess_text(text):\n",
    "    # Extract dates using regular expressions (as an example)\n",
    "    dates = re.findall(r'\\d{4}-\\d{2}-\\d{2}', text)\n",
    "    \n",
    "    # Extract legal entities (as an example)\n",
    "    doc = nlp(text)  # Assuming `nlp` is an NLP model like Spacy\n",
    "    legal_entities = [ent.text for ent in doc.ents if ent.label_ == \"LAW\"]\n",
    "    \n",
    "    # Extract key sections: Complaint, Response, Decision\n",
    "    sections = {}\n",
    "    \n",
    "    if \"Defendant's Response\" in text:\n",
    "        complaint_part = text.split(\"Defendant's Response\")[0].strip()\n",
    "        sections[\"complaint\"] = complaint_part\n",
    "    else:\n",
    "        sections[\"complaint\"] = \"Complaint not found\"\n",
    "    \n",
    "    if \"Defendant's Response\" in text and \"Tribunal's Decision\" in text:\n",
    "        response_part = text.split(\"Defendant's Response\")[1].split(\"Tribunal's Decision\")[0].strip()\n",
    "        sections[\"response\"] = response_part\n",
    "    else:\n",
    "        sections[\"response\"] = \"Response not found\"\n",
    "    \n",
    "    if \"Tribunal's Decision\" in text and \"Supreme Court's Ruling\" in text:\n",
    "        decision_part = text.split(\"Tribunal's Decision\")[1].split(\"Supreme Court's Ruling\")[0].strip()\n",
    "        sections[\"decision\"] = decision_part\n",
    "    else:\n",
    "        sections[\"decision\"] = \"Decision not found\"\n",
    "    \n",
    "    if \"Supreme Court's Ruling\" in text:\n",
    "        appeal_part = text.split(\"Supreme Court's Ruling\")[1].strip()\n",
    "        sections[\"appeal\"] = appeal_part\n",
    "    else:\n",
    "        sections[\"appeal\"] = \"Appeal not found\"\n",
    "    \n",
    "    return {\n",
    "        \"text\": text,\n",
    "        \"dates\": dates,\n",
    "        \"legal_entities\": legal_entities,\n",
    "        \"sections\": sections,\n",
    "    }\n",
    "\n",
    "# Sample data\n",
    "legal_text = \"\"\"\n",
    "A complaint was made by the appellant to the Railway Rates Tribunal against station, to station rates as being unreasonable on sugarcane imposed by the respondent Railway Co. by their rates circular No. 8 of 1953 with effect from October 1, 1953.\n",
    "The Railway company in their answer pointed out that the rates imposed by the rates circular 8 of 1953 had long before the date of the complainant ceased to be in force and a new rate had come into operation from February 10, 1960.\n",
    "Thereafter the complainant was allowed to amend the complaint.\n",
    "The prayers were for a declaration that the rates charged were unreasonable, that a direction of refund of the excess collected or which may be collected after the date of the amendment of the complaint over the reasonable rates that may be fixed by the Tribunal and, lastly, for fixation of the rates.\n",
    "The main contentions of the respondent were that the Tribunal had no jurisdiction to entertain the complaint as regards the reasonableness of rates prior to the institution of the complaint and that the Tribunal had no jurisdiction to grant refund.\n",
    "The Indian Railways Act underwent several amendments and by the amendment in December 1957, section 41 was changed.\n",
    "As a result of the change cl.\n",
    "I of section 41 read thus: \"Any com plaint that a railway administration (a) is contravening the provisions of section 28, or (b) is charging for the carriage of any commodity between two stations a rate which is unreasonable or is levying any other charge which is unreasonable shall hear and decide any such complaint in accordance with the provisions of this Chapter.\n",
    "\" 334 The Tribunal held that it had no jurisdiction to entertain or try the complaint as regards the rates and charges to prior to the institution of the complaint and it had no jurisdiction to grant any refund.\n",
    "The appellants came up in appeal to the Supreme Court.\n",
    "Held, that the words \"is charging\" in clause (b) and \"is levying\" in clause (c) of section 41 (1) of the Act must be construed to mean \"is demanding a price at the present time for services to be rendered\".\n",
    "The Railway Rates Tribunal had no jurisdiction to entertain or try the complaint as regards the reasonableness or otherwise of rates and charges made prior to the institution of the complaint.\n",
    "When the Tribunal had no jurisdiction to consider the reasonableness, or otherwise of any charges made prior to the institution of the complaint, it follows necessarily that it could have no occasion to order any refund.\n",
    "For the question of refund could arise only after a decision that the charges made were more than what was reasonable.\n",
    "Held, further, that neither expressly nor by necessary implication has the Railway Rates Tribunal been given any jurisdiction to make any order for refund.\n",
    ", Southern Railway vs The Railway Rates Tribunal, A.I.R. 1955 (Madras) 676, referred to.\n",
    "After a complaint is made the Tribunal shall hear and decide the complaint.\n",
    "The complaint being that something is unreasonable all that the Tribunal has to decide is whether that thing is unreasonable or not.\n",
    "A finding that it is unreasonable does not involve any consideration or decision of what would flow from the finding.\n",
    "In otherwords, in making the complaint the complainant can ask only for a declaration that the rate or charge is unreasonable andit is only this declaratory relief which the Tribunal has been authorised to give.\n",
    "There is no provision that the Tribunal can also give a consequential relief.\n",
    "The only other thing which the Tribunal is authorised to do in connection with the complaint is to fix \"such rate or charge as it considers reasonable.\n",
    "\" In the absence of any thing to indicate to the contrary it is reasonable to think that this fixation can only be prospective, that is, the Tribunal in making this order fixing the reasonable rate or, charge will mention a future date for this to come incoporation. 335\n",
    "\"\"\"\n",
    "\n",
    "# Summarize the legal text\n",
    "summary = pipe(legal_text, max_length=150, min_length=50, do_sample=False)\n",
    "\n",
    "# Print the summary\n",
    "print(\"Summary:\", summary[0]['summary_text'])\n",
    "# Store preprocessed data in a DataFrame for further processing"
   ]
  },
  {
   "cell_type": "code",
   "execution_count": 13,
   "metadata": {},
   "outputs": [
    {
     "name": "stderr",
     "output_type": "stream",
     "text": [
      "[nltk_data] Downloading package punkt to\n",
      "[nltk_data]     C:\\Users\\KNPRO\\AppData\\Roaming\\nltk_data...\n",
      "[nltk_data]   Package punkt is already up-to-date!\n"
     ]
    },
    {
     "name": "stdout",
     "output_type": "stream",
     "text": [
      "Final Summary: A complaint was made by the appellant to the Railway Rates Tribunal against station rates as being unreasonable on sugarcane. The Tribunal held that it had no jurisdiction to entertain or try the complaint as regards the rates and charges to prior to the institution of the complaint. The appellants came up in appeal to the Supreme Court.\n"
     ]
    }
   ],
   "source": [
    "from transformers import pipeline\n",
    "import nltk\n",
    "nltk.download('punkt')\n",
    "\n",
    "# Initialize the summarizer\n",
    "pipe = pipeline(\"summarization\", model=\"facebook/bart-large-cnn\", device=\"cuda\")\n",
    "\n",
    "sentences = nltk.sent_tokenize(legal_text)\n",
    "\n",
    "# Step 2: Chunk the text into smaller segments of around 500 tokens each (approx 100 words)\n",
    "chunk_size = 500  # Adjust based on token limits\n",
    "chunks = [sentences[i:i + chunk_size] for i in range(0, len(sentences), chunk_size)]\n",
    "chunked_texts = [' '.join(chunk) for chunk in chunks]\n",
    "\n",
    "# Step 3: Summarize each chunk\n",
    "summaries = [pipe(chunk, max_length=150, min_length=50, do_sample=False)[0]['summary_text'] for chunk in chunked_texts]\n",
    "\n",
    "# Step 4: Combine the summaries from each chunk into a final summary\n",
    "final_summary = ' '.join(summaries)\n",
    "print(\"Final Summary:\", final_summary)\n"
   ]
  },
  {
   "cell_type": "code",
   "execution_count": 34,
   "metadata": {},
   "outputs": [],
   "source": [
    "def split_into_chunks(text, tokenizer, max_length=16000, overlap=200):\n",
    "    tokens = tokenizer.encode(text, truncation=False)  # Get token IDs\n",
    "    chunks = []\n",
    "    \n",
    "    for i in range(0, len(tokens), max_length - overlap):  # Sliding window\n",
    "        chunk = tokens[i : i + max_length]  # Slice the token list\n",
    "        chunks.append(tokenizer.decode(chunk))  # Convert back to text\n",
    "    \n",
    "    return chunks"
   ]
  },
  {
   "cell_type": "code",
   "execution_count": 38,
   "metadata": {},
   "outputs": [],
   "source": [
    "def summarize_text(text):\n",
    "    chunks = split_into_chunks(text, tokenizer)\n",
    "\n",
    "    summarized_chunks = []\n",
    "    for chunk in chunks:\n",
    "        inputs = tokenizer(chunk, return_tensors=\"pt\", truncation=True, max_length=16384).to(\"cuda\")\n",
    "        summary_ids = model.generate(**inputs, max_length=2000)  # Summarize each chunk\n",
    "        summary = tokenizer.decode(summary_ids[0], skip_special_tokens=True)\n",
    "        summarized_chunks.append(summary)\n",
    "\n",
    "    final_summary = \" \".join(summarized_chunks)  # Merge summaries\n",
    "    return final_summary\n"
   ]
  },
  {
   "cell_type": "code",
   "execution_count": 39,
   "metadata": {},
   "outputs": [
    {
     "name": "stdout",
     "output_type": "stream",
     "text": [
      " an appeal by special leave from the judgment and order dated,, Railway Rates Tribunal, Madras in Complaint no. 1 of 1960.appeal by special leave from the judgment and order dated,, Railway Rates Tribunal, Madras in Complaint no. 1 of 1960.appeal by special leave from the judgment and order dated,, Railway Rates Tribunal, Madras in Complaint no. 1 of 1960.appeal by special leave from the judgment and order dated,, Railway Rates Tribunal, Madras in Complaint no. \n",
      " 1 of 1960.appeal by special leave from the judgment and order dated,, Railway Rates Tribunal, Madras in Complaint no. \n",
      " 1 of 1960.appeal by special leave from the judgment and order dated,, Railway Rates Tribunal, Madras in Complaint no. \n",
      " 1 of 1960.appeal by special leave from the judgment and order dated,, Railway Rates Tribunal, Madras in Complaint no. \n",
      " 1 of 1960.appeal by special leave from the judgment and order dated,, Railway Rates Tribunal, Madras in Complaint no. \n",
      " 1 of 1960.appeal by special leave from the judgment and order dated,, Railway Rates Tribunal, Madras in\n"
     ]
    }
   ],
   "source": [
    "input_text = dataset['train'][0]['input_text']\n",
    "summary = summarize_text(input_text)\n",
    "print(summary)\n"
   ]
  },
  {
   "cell_type": "code",
   "execution_count": null,
   "metadata": {},
   "outputs": [
    {
     "name": "stdout",
     "output_type": "stream",
     "text": [
      "A complaint was made by the appellant to the Railway Rates Tribunal against station, to station rates as being unreasonable on sugarcane imposed by the respondent Railway Co. by their rates circular No. 8 of 1953 with effect from October 1, 1953.\n",
      "The Railway company in their answer pointed out that the rates imposed by the rates circular 8 of 1953 had long before the date of the complainant ceased to be in force and a new rate had come into operation from February 10, 1960.\n",
      "Thereafter the complainant was allowed to amend the complaint.\n",
      "The prayers were for a declaration that the rates charged were unreasonable, that a direction of refund of the excess collected or which may be collected after the date of the amendment of the complaint over the reasonable rates that may be fixed by the Tribunal and, lastly, for fixation of the rates.\n",
      "The main contentions of the respondent were that the Tribunal had no jurisdiction to entertain the complaint as regards the reasonableness of rates prior to the institution of the complaint and that the Tribunal had no jurisdiction to grant refund.\n",
      "The Indian Railways Act underwent several amendments and by the amendment in December 1957, section 41 was changed.\n",
      "As a result of the change cl.\n",
      "I of section 41 read thus: \"Any com plaint that a railway administration (a) is contravening the provisions of section 28, or (b) is charging for the carriage of any commodity between two stations a rate which is unreasonable or is levying any other charge which is unreasonable shall hear and decide any such complaint in accordance with the provisions of this Chapter.\n",
      "\" 334 The Tribunal held that it had no jurisdiction to entertain or try the complaint as regards the rates and charges to prior to the institution of the complaint and it had no jurisdiction to grant any refund.\n",
      "The appellants came up in appeal to the Supreme Court.\n",
      "Held, that the words \"is charging\" in clause (b) and \"is levying\" in clause (c) of section 41 (1) of the Act must be construed to mean \"is demanding a price at the present time for services to be rendered\".\n",
      "The Railway Rates Tribunal had no jurisdiction to entertain or try the complaint as regards the reasonableness or otherwise of rates and charges made prior to the institution of the complaint.\n",
      "When the Tribunal had no jurisdiction to consider the reasonableness, or otherwise of any charges made prior to the institution of the complaint, it follows necessarily that it could have no occasion to order any refund.\n",
      "For the question of refund could arise only after a decision that the charges made were more than what was reasonable.\n",
      "Held, further, that neither expressly nor by necessary implication has the Railway Rates Tribunal been given any jurisdiction to make any order for refund.\n",
      ", Southern Railway vs The Railway Rates Tribunal, A.I.R. 1955 (Madras) 676, referred to.\n",
      "After a complaint is made the Tribunal shall hear and decide the complaint.\n",
      "The complaint being that something is unreasonable all that the Tribunal has to decide is whether that thing is unreasonable or not.\n",
      "A finding that it is unreasonable does not involve any consideration or decision of what would flow from the finding.\n",
      "In otherwords, in making the complaint the complainant can ask only for a declaration that the rate or charge is unreasonable andit is only this declaratory relief which the Tribunal has been authorised to give.\n",
      "There is no provision that the Tribunal can also give a consequential relief.\n",
      "The only other thing which the Tribunal is authorised to do in connection with the complaint is to fix \"such rate or charge as it considers reasonable.\n",
      "\" In the absence of any thing to indicate to the contrary it is reasonable to think that this fixation can only be prospective, that is, the Tribunal in making this order fixing the reasonable rate or, charge will mention a future date for this to come incoporation. 335\n",
      "\n"
     ]
    }
   ],
   "source": []
  },
  {
   "cell_type": "code",
   "execution_count": null,
   "metadata": {},
   "outputs": [],
   "source": []
  }
 ],
 "metadata": {
  "kernelspec": {
   "display_name": "Python 3",
   "language": "python",
   "name": "python3"
  },
  "language_info": {
   "codemirror_mode": {
    "name": "ipython",
    "version": 3
   },
   "file_extension": ".py",
   "mimetype": "text/x-python",
   "name": "python",
   "nbconvert_exporter": "python",
   "pygments_lexer": "ipython3",
   "version": "3.11.9"
  }
 },
 "nbformat": 4,
 "nbformat_minor": 2
}
