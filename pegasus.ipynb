{
 "cells": [
  {
   "cell_type": "code",
   "execution_count": 2,
   "metadata": {},
   "outputs": [
    {
     "name": "stdout",
     "output_type": "stream",
     "text": [
      "Using device: cuda\n"
     ]
    }
   ],
   "source": [
    "import torch\n",
    "from transformers import PegasusForConditionalGeneration, PegasusTokenizer\n",
    "\n",
    "# Check if GPU is available\n",
    "device = \"cuda\" if torch.cuda.is_available() else \"cpu\"\n",
    "print(f\"Using device: {device}\")\n",
    "    \n",
    "# Load model & tokenizer\n",
    "model_name = \"google/pegasus-large\"\n",
    "tokenizer = PegasusTokenizer.from_pretrained(model_name)\n",
    "model = PegasusForConditionalGeneration.from_pretrained(model_name).to(device)"
   ]
  },
  {
   "cell_type": "code",
   "execution_count": 3,
   "metadata": {},
   "outputs": [],
   "source": [
    "def chunk_text(text, tokenizer, max_length=1024, overlap=200):\n",
    "    tokens = tokenizer.encode(text)\n",
    "    chunks = []\n",
    "    \n",
    "    for i in range(0, len(tokens), max_length - overlap):\n",
    "        chunk = tokens[i : i + max_length]\n",
    "        chunks.append(tokenizer.decode(chunk))\n",
    "    \n",
    "    return chunks"
   ]
  },
  {
   "cell_type": "code",
   "execution_count": 4,
   "metadata": {},
   "outputs": [],
   "source": [
    "def summarize_chunks(chunks, model, tokenizer):\n",
    "    summaries = []\n",
    "    \n",
    "    for chunk in chunks:\n",
    "        inputs = tokenizer(chunk, return_tensors=\"pt\", truncation=True, max_length=1024).to(device)\n",
    "        \n",
    "        with torch.no_grad():  # Disable gradient calculations for inference\n",
    "            summary_ids = model.generate(**inputs, max_length=256)\n",
    "        \n",
    "        summary = tokenizer.decode(summary_ids[0], skip_special_tokens=True)\n",
    "        summaries.append(summary)\n",
    "    \n",
    "    return summaries"
   ]
  },
  {
   "cell_type": "code",
   "execution_count": 5,
   "metadata": {},
   "outputs": [],
   "source": [
    "import pandas as pd\n",
    "data=pd.read_csv(\"legal_summaries.csv\")"
   ]
  },
  {
   "cell_type": "code",
   "execution_count": 1,
   "metadata": {},
   "outputs": [
    {
     "name": "stdout",
     "output_type": "stream",
     "text": [
      "WARNING:tensorflow:From c:\\Users\\KNPRO\\AppData\\Local\\Programs\\Python\\Python311\\Lib\\site-packages\\keras\\src\\losses.py:2976: The name tf.losses.sparse_softmax_cross_entropy is deprecated. Please use tf.compat.v1.losses.sparse_softmax_cross_entropy instead.\n",
      "\n",
      "WARNING:tensorflow:From C:\\Users\\KNPRO\\AppData\\Local\\Temp\\ipykernel_10996\\493302830.py:8: The name tf.logging.set_verbosity is deprecated. Please use tf.compat.v1.logging.set_verbosity instead.\n",
      "\n"
     ]
    }
   ],
   "source": [
    "import warnings\n",
    "import tensorflow as tf\n",
    "\n",
    "# Suppress all warnings\n",
    "warnings.filterwarnings(\"ignore\")\n",
    "\n",
    "# Suppress TensorFlow deprecation warnings\n",
    "tf.compat.v1.logging.set_verbosity(tf.compat.v1.logging.ERROR)\n"
   ]
  },
  {
   "cell_type": "code",
   "execution_count": 6,
   "metadata": {},
   "outputs": [
    {
     "name": "stderr",
     "output_type": "stream",
     "text": [
      "Token indices sequence length is longer than the specified maximum sequence length for this model (2976 > 1024). Running this sequence through the model will result in indexing errors\n"
     ]
    },
    {
     "name": "stdout",
     "output_type": "stream",
     "text": [
      "This appeal arises out of a suit brought by the respondent in the court of the Subordinate Judge, Dhanbad, for recovery of arrears of royalty and cess from the appellant and another alleged to be due under a compromise decree passed on the 6th March, 1923, in a previ ous suit between the predecessors in interest of the par ties. On 7th June, 1921, Kumar executed another perma nent patta leasing the right to the coal in 500 bighas out of the 5,800 bighas referred to above to one Prayngji Bal lavji Deoshi and his son Harakchand Deoshi (hereinafter referred to as the Deoshis). On 11th March, 1921, one Kumar Krishna Prasad Singh (hereinafter referred to as Kumar) granted a perma nent lease of the right to the underground coal in 5,800 bighas of land belonging to him to Shibsaran Singh and Sitaram Singh (hereinafter referred to as the Singhs) by a registered patta stipulating for a salami of Rs. On 7th June, 1921, Kumar executed another perma nent patta leasing the right to the coal in 500 bighas out of the 5,800 bighas referred to above to one Prayng 3 executed in favour of the plaintiffs in respect of 5,800 bighas of coal land in village Rahraband shall remain in force, and the plaintiffs will get a decree of declara tion of their right and title to the 500 bighas of coal land in dispute but defendants 1 and 2 (the Deoshis) shall hold possession as tenants. Besides the terms mentioned below, defendants 1 and 2 shall remain bound by all the remaining terms under which they took settlement of the 500 bighas of coal land from defendant No. 3 under 836 patta and Kabuliyat, and both the defendants 1 and 2 shall possess the same under the plaintiffs from generation to generation and all the terms of the said patta and Kabuliyat shall remain effective and in force between them. It is obvious that if the compromise decree fails within clause (d) of sub section (1) it would not be protected under clause (vi) of sub section (2) which excepts only documents falling under the categories (b) and (c) of sub section (1). If the compromise decree fails within clause (d) of sub section (1) it would not be protected under clause (vi) of sub section (2) which excepts only documents falling under the categories (b) and (c) of sub section (1). On tiffs view it was said that the transaction would not fall under clause (d), although it would fall under clause (b) but then would be saved by the exception in clause (vi) of sub section (2). as stated already, to bring the Singhs and the Deoshis into a new legal relationship as underlessor and under lessee in respect of 500 bighas which were the subject matter of the title suit; in other words, its legal effect was to create a perpetual underlease be tween the Singhs and the Deoshis which would clearly fall under clause (d) but for the circumstance that it was to take effect only on condition float the Singhs paid Rs.\n"
     ]
    }
   ],
   "source": [
    "legal_text = data['input_text'][1]\n",
    "chunks = chunk_text(legal_text, tokenizer)\n",
    "\n",
    "# Summarize each chunk\n",
    "chunk_summaries = summarize_chunks(chunks, model, tokenizer)\n",
    "\n",
    "# Combine mini-summaries into a final summary\n",
    "final_summary = \" \".join(chunk_summaries)\n",
    "print(final_summary)"
   ]
  },
  {
   "cell_type": "code",
   "execution_count": 10,
   "metadata": {},
   "outputs": [
    {
     "data": {
      "text/plain": [
       "'Civil Appeal No.94 of 1949.\\n107 834 Appeal from a judgment and decree of the High Court of Judi cature at Patna in Appeal from Appellate Decree No. 97 of 1946 (Mannohar Lall and Mukherji JJ.) dated 23rd Decem ber, 1947, confirming the judgment of the District Judge of Purulia in Appeal No. 159 of 1944.\\nS.P. Sinha (P. K. Bose, with him) for the appel lant.\\nN.C. Chatterjee and Panchanan Ghosh (Chandra Narayan Naik, with them) for the respondent. 1950.\\nDecember 1.\\nThe Judgment of the Court was deliv ered by PATANJALI SASTRI J.\\nThis appeal arises out of a suit brought by the respondent in the court of the Subordinate Judge, Dhanbad, for recovery of arrears of royalty and cess from the appellant and another alleged to be due under a compromise decree passed on the 6th March, 1923, in a previ ous suit between the predecessors in interest of the par ties.\\nThe only plea which is material for the purpose of this appeal is that the compromise decree not having been registered was inadmissible in evidence.\\nThe courts below held that the document did not require registration and gave effect to its terms in decreeing the suit.\\nThe second defendant has preferred this appeal.\\nThe facts are not now in dispute and may be briefly stated.\\nOn 11th March, 1921, one Kumar Krishna Prasad Singh (hereinafter referred to as Kumar) granted a perma nent lease of the right to the underground coal in 5,800 bighas of land belonging to him to Shibsaran Singh and Sitaram Singh (hereinafter referred to as the Singhs) by a registered patta stipulating for a salami of Rs. 8,000 and royalty at the rate of 2a.\\nper ton of coal raised subject to a minimum of Rs. 8,000 and for certain other cesses and interest.\\nOn 7th June, 1921, Kumar executed another perma nent patta leasing the right to the coal in 500 bighas out of the 5,800 bighas referred to above to one Prayngji Bal lavji Deoshi and his son Harakchand Deoshi (hereinafter referred to as the Deoshis).\\nBy this document.\\n835 the Deoshis agreed inter alia to pay royalty at the rate of 2a. per ton on all classes of coal raised subject to a minimum of Rs. 750 a year.\\nThe Singhs feeling themselves aggrieved by the latter transaction brought a title suit (No. 1291 of 1921) in the Court of the Subordinate Judge of Dhanbad for a declaration of their title and for possession of the 500 bighas leased to the Deoshis under the aforesaid patta of 7th June, 1921.\\nTo that suit Kumar was made a party as defendant No. 3, the Deoshis being defendants 1 and 2.\\nThe suit was however cornpromised on 6th March, 1923, by all the parties and a decree based on the compromise was also passed on the same day.\\nThe interest of the Singhs was brought to sale in 193S in execution of a decree obtained against them and was purchased by the plaintiff who insti tuted the presnt suit on 3rd October, 1942, claiming the royalty and cesses payable under the compromise decree for the period from Pous 1345 to Asadh 1349 B.S. from defendants 1 and 2 as the representatives of the Deoshis who entered into the compromise of March, 1923.\\nIn order to appreciate the contentions of the parties, it is necessary to set out the relevant terms of the compro mise decree which are as follows : \"The plaintiffs (the Singhs) within two months from this date shall pay Rs. 8,000 as salami to defendant No. 3 (Kumar).\\nOtherwise all the terms of the compromise Will stand cancelled and the plaintiffs shall not be competent to claim any right to or possession over the.land covered by the patta dated 11th March, 1921.\\nThe patta which defend ant No. 3 executed in favour of the plaintiffs in respect of 5,800 bighas of coal land in village Rahraband shall remain in force, and the plaintiffs will get a decree of declara tion of their right and title to the 500 bighas of coal land in dispute but defendants 1 and 2 (the Deoshis) shall hold possession as tenants.\\nBesides the terms mentioned below, defendants 1 and 2 shall remain bound by all the remaining terms under which they took settlement of the 500 bighas of coal land from defendant No. 3 under 836 patta and Kabuliyat, and both the defendants 1 and 2 shall possess the same under the plaintiffs from generation to generation and all the terms of the said patta and Kabuliyat shall remain effective and in force between them.\\nBoth the defendants 1 and 2 shall remain bound to pay to the plain tiffs commission at the rate of 2a.\\nper ton on all sorts of coal instead of 2a.\\na ton as stated before in the patta of 5,800 bighas of land settled with the plaintiffs.\\nThe plaintiffs shall pay to defendant No. 3 in future the mini mum royalty of Rs. 6,000 instead of Rs. 8,000 as stipulated in the original patta of 11 th March 1921 and commission at the rate of la.\\na ton in place of 2a.\\na ton as stipulat ed in the patta of March 21 .\\nUnless the plaintiffs pay to the defendant No. 3 Rs. 8,000 within 2 months from this day they shall not be competent to take out execution of this decree, nor shall they be competent to take posses sion of the land in dispute.\\nThe defendants 1 and 2 within one month from the date of payment of Rs. 8,000 as aforesaid to defendant No. 3 shall execute a new Kabuliyat in favour of the plaintiff in respect of the modified terms stated above, i.e., on the condition to pay commission at the rate of 2a.\\nper ton.\\nIn the new patta which defendant No. 3 will execute in favour of the plaintiffs he shall embody the condition that the annual minimum royalty will be Rs. 6,000 instead of Rs. 8,000 and commission will be at the rate of la. 9p.\\nper ton in place of 2a.\\nper ton as mentioned in the aforesaid patta.\\nIf the defendant No. 3 does not execute the parts on the aforesaid modified terms in favour \\'of the plaintiffs within the time aforesaid and both the defendants 1 and 2 also do not execute a kabuliyat on the aforesaid modified terms, then this very rafanama shall be treated as the parts and kabuliyat, and the plaintiffs in accordance with the terms of the rafanama shall pay to defendant No. 3, Rs. 6,000 only as minimum royalty and commission at the rate of la.\\nper ton with respect to 5,800 bighas and shall continue to realise commission at the rate of 2a. 6p. per ton from defendants 1 and 2 who shall remain bound to pay the same.\\n\" 837 The answer to the question whether this compromise decree requires registration depends on the legal effect of the changes in the status quo ante of the parties brought about by the document.\\nA careful analysis reveals the following alterations : (1) In the lease to the Singhs, the rate of royalty or commission was reduced from 2a.\\nper ton of coal raised to la.\\nper ton and the minimum royalty was reduced from Rs. 8,000 to Rs. 6,000 while the area of coal land in their khas possession was reduced by 500 bighas. (2) In the lease to the Deoshis the rate of royalty or commission was enhanced from 2a.\\nper ton to 2a.\\nper ton and tiffs was made payable to the Singhs.\\nThe Singhs and the Deoshis were brought into a new legal relationship, the former accepting the latter as tenants holding the disputed 500 bighas under them in consideration of the latter agreeing to pay the enhanced royalty to the former. (4) The whole arrangement was made conditional on the Singhs paying Rs. 8,000 to Kumar within 2 months from the date of the compromise, it being expressly provided that the Singhs were not to be entitled to execute the decree or to take possession of the disputed area of 503 bighas which evidently had not till then passed into their possession.\\nNow, sub section (1) of section 17 of the , enumerates five categories of documents of which regis tration is made compulsory which include\" (d) leases of immoveable property from year to year, or for any term exceeding one year, or reserving a yearly rent;\".\\nSub sec tion (2) however provided that \"nothing in clauses (b) and (c) of sub section (1)applies to . (vi) any decree or order of court.\\n\" It may be mentioned in passing that this clause was amended with affect from the 1st April, 1930, by the , so as to exclude from the scope of the exception compromise decrees comprising immovable property other than that which is the subject matter of the suit.\\nBut 838 the amendment cannot affect the document here in question which came into existence in 1923.\\nBefore the amendment, the clause was held to cover even compromise decrees comprising immovable property which was not the subject matter of the suit: [Vide Hemanta Kumari Debi vs Midnapur Zamindari Co. ( \\')].\\nThat decision applies to the present case and obviates the objection that because the compromise in question covered also the remaining 5,300 bighas which were not the subject matter of the title suit of 1921, it was outside the scope of the exception in sub section (2), clause (vi).\\nThe only question, therefore, is whether the compromise decree is a \"lease\" [which expression includes \"an agreement to lease\" by the definition in section 2 (7)] within the meaning of el.\\n(d) of sub section (1).\\nIt is obvious that if the compromise decree fails within clause (d) of sub section (1) it would not be protected under clause (vi) of sub section (2) which excepts only documents falling under the categories (b) and (c) of sub section (1).\\nThe High Court was of opinion that, on a proper construction of the terms of the compromise, it did not fall under clause (d).\\nMano har Lall J., who delivered the leading judgment, observed: \"It was a tripartite agreement embodied in the decree of the court and was, therefore, exempt from registration.\\nIt will be oh.served also that so far as the defendants were con cerned, their possession of the 500 bighas was not inter fered with and they still remained in possession as the lessees, but instead of paying the royalty to the plaintiffs it was agreed between all the parties that the defendants would pay the royalty in future to Shibsaran and Sitcram.\\nIf the matter had stood there, the learned Advocate for the appellant could not have seriously contested the position, but he vehemently argued that when the agreement was not to pay the same amount of royalty or commission as previously agreed to but an altered amount of royalty and commission, the document should be held to fall within the mischief of section 17 (1)(d)of the (1) P.C. 839 .\\nThe answer to this contention is, as I have stated just now, to be found in the Full Bench decision of this court :\" [see Charu Chandra Mitra \\'s case ()].\\nIt was there held that a mere alteration of the rent reserved does not make the transaction a new lease so as to bring it within clause (d)of subsection (1).\\nWe are unable to share this view.\\nIt oversimplifies the compromise transaction which, in our opinion, involves much more than a mere alteration of the royalties stipulated for in the previous pattas executed by Kumar.\\nNor can we accept the suggestion of Mr. Chatterjee for the respondents theft the compromise operated as an assignment to the Singhs by Kumar of the latter \\'s reversion under the \"lease granted to the Deoshis and all that the latter did was to acknowledge the Singhs as their landlords and attern to them.\\nOn tiffs view it was said that the transaction would not fall under clause (d), although it would fall under clause (b) but then would be saved by the exception in clause (vi) of sub section (2).\\nThe argument, however, overlooks that Kumar had leased the area of 5,800 bighas to the Singhs by his patta dated 11th March, 1921, and the compromise by providing that the Singhs should pay the reduced royalty of 1a.\\nper ton in respect of the whole area preserved Kumar \\'s reversion intact.\\nHe could not therefore be deemed to have assigned any part of his inter est in 5,800 bighas as landlord to the Singhs who continue to hold the entire extent as tenants under him.\\nWhat the compromise really did was.\\nas stated already, to bring the Singhs and the Deoshis into a new legal relationship as underlessor and under lessee in respect of 500 bighas which were the subject matter of the title suit; in other words, its legal effect was to create a perpetual underlease be tween the Singhs and the Deoshis which would clearly fall under clause (d) but for the circumstance that it was to take effect only on condition float the Singhs paid Rs. 8,000 to Kumar within 2 months (1) 840 thereafter.\\nAs pointed out by the Judicial Committee in Hemanta Kumar \\'s case (1) \"An agreement for a lease, which a lease is by the statute declared to include, must, in their Lordships \\' opinion, be a document which effects an actual demise and operates as a lease .\\nThe phrase which in the context where it occurs and in the statute in which it is found, must in their opinion relate to some document which creates a present and immediate interest in the land.\\n\" The compromise decree expressly provides that unless the sum of Rs. 8,000 was paid within the stipulated time the Singhs were not to execute the decree or to take possession of the disputed property.\\nUntil the payment was made it was impossible to determine whether there would be any under lease or not.\\nSuch a contingent agreement is not within clause (d) and although it is covered by clause (b). is excepted by clause (vi) of sub section ( \\'2).\\nWe therefore agree with the conclusion of the High Court though on dif ferent grounds and dismiss the appeal with costs.\\nAppeal dismisseel.\\n'"
      ]
     },
     "execution_count": 10,
     "metadata": {},
     "output_type": "execute_result"
    }
   ],
   "source": [
    "data['input_text'][1]"
   ]
  },
  {
   "cell_type": "code",
   "execution_count": null,
   "metadata": {},
   "outputs": [],
   "source": []
  }
 ],
 "metadata": {
  "kernelspec": {
   "display_name": "Python 3",
   "language": "python",
   "name": "python3"
  },
  "language_info": {
   "codemirror_mode": {
    "name": "ipython",
    "version": 3
   },
   "file_extension": ".py",
   "mimetype": "text/x-python",
   "name": "python",
   "nbconvert_exporter": "python",
   "pygments_lexer": "ipython3",
   "version": "3.11.9"
  }
 },
 "nbformat": 4,
 "nbformat_minor": 2
}
